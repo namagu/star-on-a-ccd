{
 "cells": [
  {
   "cell_type": "markdown",
   "metadata": {},
   "source": [
    "## How to map a star onto a CCD"
   ]
  },
  {
   "cell_type": "code",
   "execution_count": null,
   "metadata": {},
   "outputs": [],
   "source": [
    "import requests\n",
    "\n",
    "import numpy as np\n",
    "import pandas as pd\n",
    "import matplotlib\n",
    "import matplotlib.pyplot as plt\n",
    "\n",
    "from astroquery.mast import Observations\n",
    "from astropy.io import fits\n",
    "from astropy.wcs import WCS\n",
    "from astropy.table import Table\n",
    "\n",
    "%matplotlib inline"
   ]
  },
  {
   "cell_type": "markdown",
   "metadata": {},
   "source": [
    "### Invoke your target"
   ]
  },
  {
   "cell_type": "code",
   "execution_count": null,
   "metadata": {},
   "outputs": [],
   "source": [
    "objname = \"LHS 3844\" "
   ]
  },
  {
   "cell_type": "markdown",
   "metadata": {},
   "source": [
    "### request info from exo.MAST"
   ]
  },
  {
   "cell_type": "code",
   "execution_count": null,
   "metadata": {},
   "outputs": [],
   "source": [
    "planeturl = \"https://exo.mast.stsci.edu/api/v0.1/exoplanets/\"\n",
    "header={}\n",
    "url = planeturl + \"/identifiers/\"\n",
    "\n",
    "myparams = {\"name\":objname}\n",
    "r = requests.get(url = url, params = myparams, headers = header)\n",
    "\n",
    "planet_names = r.json() \n",
    "print(planet_names)"
   ]
  },
  {
   "cell_type": "code",
   "execution_count": null,
   "metadata": {},
   "outputs": [],
   "source": [
    "ticid = planet_names['tessID']\n",
    "tce = planet_names['tessTCE']\n",
    "Ra, Dec = planet_names['ra'],planet_names['dec']"
   ]
  },
  {
   "cell_type": "markdown",
   "metadata": {},
   "source": [
    "### Pull a single calibrated FFI for the target"
   ]
  },
  {
   "cell_type": "code",
   "execution_count": null,
   "metadata": {},
   "outputs": [],
   "source": [
    "from astroquery.mast import Observations\n",
    "obsTable = Observations.query_object(objname,radius=\".02 deg\")\n",
    "dataProductsByObservation = Observations.get_product_list(obsTable[0:2])  # grab just the TESS ones"
   ]
  },
  {
   "cell_type": "code",
   "execution_count": null,
   "metadata": {},
   "outputs": [],
   "source": [
    "# obsTable.to_pandas() # table of observations from different observers (TESS, GALEX, etc.)"
   ]
  },
  {
   "cell_type": "code",
   "execution_count": null,
   "metadata": {},
   "outputs": [],
   "source": [
    "ffics = Observations.filter_products(dataProductsByObservation,productSubGroupDescription='FFIC')"
   ]
  },
  {
   "cell_type": "code",
   "execution_count": null,
   "metadata": {},
   "outputs": [],
   "source": [
    "single_ffic = Table(ffics[100])"
   ]
  },
  {
   "cell_type": "markdown",
   "metadata": {},
   "source": [
    "### Import FFI "
   ]
  },
  {
   "cell_type": "code",
   "execution_count": null,
   "metadata": {},
   "outputs": [],
   "source": [
    "manifest = Observations.download_products(single_ffic,'../data')"
   ]
  },
  {
   "cell_type": "code",
   "execution_count": null,
   "metadata": {},
   "outputs": [],
   "source": [
    "url = manifest['Local Path'][0]"
   ]
  },
  {
   "cell_type": "code",
   "execution_count": null,
   "metadata": {},
   "outputs": [],
   "source": [
    "fits.info(url)"
   ]
  },
  {
   "cell_type": "markdown",
   "metadata": {},
   "source": [
    "### Plot FFI"
   ]
  },
  {
   "cell_type": "code",
   "execution_count": null,
   "metadata": {},
   "outputs": [],
   "source": [
    "with fits.open(url, mode = \"readonly\") as hdulist:\n",
    "    wcs_info = WCS(hdulist[1].header)\n",
    "    cal_image = hdulist[1].data\n",
    "    header = hdulist[1].header"
   ]
  },
  {
   "cell_type": "code",
   "execution_count": null,
   "metadata": {},
   "outputs": [],
   "source": [
    "cam, ccd = header['CAMERA'], header['CCD']\n",
    "cam, ccd"
   ]
  },
  {
   "cell_type": "code",
   "execution_count": null,
   "metadata": {},
   "outputs": [],
   "source": [
    "sector = url.split(\"-\")[1]"
   ]
  },
  {
   "cell_type": "code",
   "execution_count": null,
   "metadata": {},
   "outputs": [],
   "source": [
    "# Use the header to determine the mid-point of the exposure time for this FFI.\n",
    "mid_time = np.around([(header['TSTOP'] + header['TSTART']) / 2], decimals=3)[0]\n",
    "mid_time"
   ]
  },
  {
   "cell_type": "code",
   "execution_count": null,
   "metadata": {},
   "outputs": [],
   "source": [
    "# From MAST beginner_how_to_use_ffi.ipynb tutorial: \n",
    "\n",
    "# Plot gridded FFI\n",
    "\n",
    "plt.figure(figsize = (12,12))\n",
    "ax = plt.subplot(111, projection = wcs_info)\n",
    "\n",
    "ax.imshow(cal_image, cmap = plt.cm.bone, vmin = np.percentile(cal_image,4),vmax = np.percentile(cal_image, 98), origin = \"lower\")\n",
    "plt.grid(axis = 'both', color = 'white', ls = 'solid')\n",
    "\n",
    "plt.title(\"TESS Calibrated FFI for Sector {}, Camera {}, CCD {}, Timestamp {} BTJD\".format(sector[-1], cam, ccd,mid_time), pad=27)\n",
    "# plt.xlabel('RA', labelpad=0.3)\n",
    "# plt.ylabel('Dec',labelpad=-30)\n",
    "\n",
    "r = ax.coords['ra']\n",
    "d = ax.coords['dec']\n",
    "\n",
    "r.set_axislabel('RA')\n",
    "d.set_axislabel('Dec')\n",
    "\n",
    "#r.set_major_formatter('hh:mm:ss')\n",
    "r.set_major_formatter('d.ddd')\n",
    "d.set_major_formatter('d.ddd')\n",
    "\n",
    "#r.set_ticks(spacing=180. * u.arcmin)\n",
    "r.set_ticks(number=20.)\n",
    "#d.set_ticks(spacing=0.5 * u.deg)\n",
    "d.set_ticks(number=15.)\n",
    "\n",
    "r.set_ticks_position('bt')\n",
    "r.set_ticklabel_position('bt')\n",
    "\n",
    "d.set_ticks_position('lr')\n",
    "d.set_ticklabel_position('lr')\n",
    "\n",
    "starLoc = wcs_info.all_world2pix([[Ra,Dec]],0)  #Second is origin\n",
    "plt.scatter(starLoc[0,0], starLoc[0,1], s = 150, facecolors='none', edgecolors='r')\n",
    "\n",
    "# plt.savefig('{}-ccd-near-tois-marked-labeled.png'.format(objname))\n"
   ]
  },
  {
   "cell_type": "markdown",
   "metadata": {},
   "source": [
    "### Import TOI List\n",
    "\n",
    "Add in list of TOIs and filter by RA, Dec.\n",
    "\n",
    "This list is from ExoFOP, filtered to only include targets which are not 'FP' or false positives.\n",
    "\n",
    "You can download the full list here https://exofop.ipac.caltech.edu/tess/view_toi.php"
   ]
  },
  {
   "cell_type": "code",
   "execution_count": null,
   "metadata": {},
   "outputs": [],
   "source": [
    "toilist = \"exofop_tois_s01_s09_sans_fps.csv\"\n",
    "\n",
    "table = pd.read_csv(toilist)"
   ]
  },
  {
   "cell_type": "markdown",
   "metadata": {},
   "source": [
    "### Cut TOI list down to just nearby stars\n",
    "\n",
    "We want RAs between x and y. Plot the FFI with WCS and then play with the ranges for upper and lower limits for RA and Dec."
   ]
  },
  {
   "cell_type": "code",
   "execution_count": null,
   "metadata": {},
   "outputs": [],
   "source": [
    "index1 = (table['Dec (degrees)'] > -81.)*(table['Dec (degrees)'] < -67.)\n",
    "# cut1 = table_all[['RA (degrees)','Dec (degrees)']][index1]\n",
    "cut1 = table[index1]\n",
    "index2 = (cut1['RA (degrees)'] > 325.)|(cut1['RA (degrees)'] < 15.)\n",
    "nearby = cut1[['TIC ID','TOI','RA (degrees)','Dec (degrees)']][index2]"
   ]
  },
  {
   "cell_type": "code",
   "execution_count": null,
   "metadata": {},
   "outputs": [],
   "source": [
    "nearby_tois = nearby[['RA (degrees)','Dec (degrees)']].get_values()\n",
    "nearby_names = nearby['TOI'].get_values()"
   ]
  },
  {
   "cell_type": "markdown",
   "metadata": {},
   "source": [
    "### Plot again now with nearby TOIs"
   ]
  },
  {
   "cell_type": "code",
   "execution_count": null,
   "metadata": {},
   "outputs": [],
   "source": [
    "# From MAST beginner_how_to_use_ffi.ipynb tutorial: \n",
    "\n",
    "# Plot gridded FFI\n",
    "\n",
    "plt.figure(figsize = (12,12))\n",
    "ax = plt.subplot(111, projection = wcs_info)\n",
    "\n",
    "ax.imshow(cal_image, cmap = plt.cm.bone, vmin = np.percentile(cal_image,4),vmax = np.percentile(cal_image, 98), origin = \"lower\")\n",
    "plt.grid(axis = 'both', color = 'white', ls = 'solid')\n",
    "\n",
    "plt.title(\"TESS Calibrated FFI for Sector {}, Camera {}, CCD {}, Timestamp {} BTJD\".format(sector[-1], cam, ccd,mid_time), pad=27)\n",
    "# plt.xlabel('RA', labelpad=0.3)\n",
    "# plt.ylabel('Dec',labelpad=-30)\n",
    "\n",
    "r = ax.coords['ra']\n",
    "d = ax.coords['dec']\n",
    "\n",
    "r.set_axislabel('RA')\n",
    "d.set_axislabel('Dec')\n",
    "\n",
    "#r.set_major_formatter('hh:mm:ss')\n",
    "r.set_major_formatter('d.ddd')\n",
    "d.set_major_formatter('d.ddd')\n",
    "\n",
    "#r.set_ticks(spacing=180. * u.arcmin)\n",
    "r.set_ticks(number=20.)\n",
    "#d.set_ticks(spacing=0.5 * u.deg)\n",
    "d.set_ticks(number=15.)\n",
    "\n",
    "r.set_ticks_position('bt')\n",
    "r.set_ticklabel_position('bt')\n",
    "\n",
    "d.set_ticks_position('lr')\n",
    "d.set_ticklabel_position('lr')\n",
    "\n",
    "starLoc = wcs_info.all_world2pix([[Ra,Dec]],0)  #Second is origin\n",
    "plt.scatter(starLoc[0,0], starLoc[0,1], s = 150, facecolors='none', edgecolors='r')\n",
    "\n",
    "# plt.savefig('ffis/{}-ccd-near-tois-marked-labeled.png'.format(objname))\n",
    "\n",
    "\n",
    "nearbyLoc = wcs_info.all_world2pix(nearby_tois[:], 0)\n",
    "plt.scatter(nearbyLoc[:,0], nearbyLoc[:,1], s = 25, color = 'orange')\n",
    "\n",
    "# names = [\"WASP-91 b\",\"TOI 135.01\",\"LHS 3844 b\",\"TOI 200.01\"]\n",
    "names = nearby_names\n",
    "for i, txt in enumerate(names):\n",
    "    ax.annotate(txt,\n",
    "                xy=(nearbyLoc[i,0]+10,nearbyLoc[i,1]+10),\n",
    "                color='white',\n",
    "                weight='bold',\n",
    "                size='medium')"
   ]
  },
  {
   "cell_type": "code",
   "execution_count": null,
   "metadata": {},
   "outputs": [],
   "source": [
    "# plt.savefig('{}-ccd-near-tois-marked-labeled.png'.format(objname))"
   ]
  }
 ],
 "metadata": {
  "kernelspec": {
   "display_name": "Python 3",
   "language": "python",
   "name": "python3"
  },
  "language_info": {
   "codemirror_mode": {
    "name": "ipython",
    "version": 3
   },
   "file_extension": ".py",
   "mimetype": "text/x-python",
   "name": "python",
   "nbconvert_exporter": "python",
   "pygments_lexer": "ipython3",
   "version": "3.7.1"
  }
 },
 "nbformat": 4,
 "nbformat_minor": 2
}
